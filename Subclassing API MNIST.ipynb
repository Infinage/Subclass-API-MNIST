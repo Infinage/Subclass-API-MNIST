{
 "cells": [
  {
   "cell_type": "code",
   "execution_count": 454,
   "metadata": {},
   "outputs": [],
   "source": [
    "import tensorflow as tf\n",
    "import numpy as np\n",
    "import pandas as pd\n",
    "import matplotlib.pyplot as plt\n",
    "%matplotlib inline\n",
    "\n",
    "import tqdm"
   ]
  },
  {
   "cell_type": "markdown",
   "metadata": {},
   "source": [
    "### The project:\n",
    "\n",
    "MNIST Classifier from scratch, without using the inbuilt layers, activations, losses, etc using the subclassing API with a custom loop.\n",
    "\n",
    "Before which let's first create a MNIST classifier with all these:\n"
   ]
  },
  {
   "cell_type": "code",
   "execution_count": 6,
   "metadata": {},
   "outputs": [
    {
     "data": {
      "text/plain": [
       "((60000, 28, 28), (10000, 28, 28))"
      ]
     },
     "execution_count": 6,
     "metadata": {},
     "output_type": "execute_result"
    }
   ],
   "source": [
    "(X_train, y_train,), (X_test, y_test) = tf.keras.datasets.mnist.load_data()\n",
    "\n",
    "# scale the values to be within [0, 1]\n",
    "X_train = X_train / 255.0\n",
    "X_test = X_test /  255.0\n",
    "\n",
    "# printing out the shapes\n",
    "X_train.shape, X_test.shape"
   ]
  },
  {
   "cell_type": "markdown",
   "metadata": {},
   "source": [
    "### Let's create the model using the functional API:\n",
    "We are trying to implement a 'Deep and Wide' neural network to add complexity for our custom model."
   ]
  },
  {
   "cell_type": "code",
   "execution_count": 7,
   "metadata": {},
   "outputs": [
    {
     "name": "stdout",
     "output_type": "stream",
     "text": [
      "Model: \"Deep_N_Wide_Model\"\n",
      "__________________________________________________________________________________________________\n",
      "Layer (type)                    Output Shape         Param #     Connected to                     \n",
      "==================================================================================================\n",
      "input_1 (InputLayer)            [(None, 28, 28)]     0                                            \n",
      "__________________________________________________________________________________________________\n",
      "flatten (Flatten)               (None, 784)          0           input_1[0][0]                    \n",
      "__________________________________________________________________________________________________\n",
      "dense (Dense)                   (None, 128)          100480      flatten[0][0]                    \n",
      "__________________________________________________________________________________________________\n",
      "dense_1 (Dense)                 (None, 128)          16512       dense[0][0]                      \n",
      "__________________________________________________________________________________________________\n",
      "concatenate (Concatenate)       (None, 256)          0           dense[0][0]                      \n",
      "                                                                 dense_1[0][0]                    \n",
      "__________________________________________________________________________________________________\n",
      "dropout (Dropout)               (None, 256)          0           concatenate[0][0]                \n",
      "__________________________________________________________________________________________________\n",
      "dense_2 (Dense)                 (None, 256)          65792       dropout[0][0]                    \n",
      "__________________________________________________________________________________________________\n",
      "dense_3 (Dense)                 (None, 10)           2570        dense_2[0][0]                    \n",
      "==================================================================================================\n",
      "Total params: 185,354\n",
      "Trainable params: 185,354\n",
      "Non-trainable params: 0\n",
      "__________________________________________________________________________________________________\n"
     ]
    }
   ],
   "source": [
    "# creating the input layer\n",
    "inp = tf.keras.layers.Input(shape=(28, 28))\n",
    "# flatten the inputs \n",
    "flatten = tf.keras.layers.Flatten()(inp)\n",
    "\n",
    "# dense layer blocks\n",
    "dense1 = tf.keras.layers.Dense(units=128, activation='elu', kernel_initializer='he_normal')(flatten)\n",
    "dense2 = tf.keras.layers.Dense(units=128, activation='elu', kernel_initializer='he_normal')(dense1)\n",
    "\n",
    "# we concatenate two consequtive layers and feed it to a drop out layer\n",
    "conc = tf.keras.layers.Concatenate()([dense1, dense2])\n",
    "\n",
    "# drop out layer\n",
    "dropout1 = tf.keras.layers.Dropout(0.2)(conc)\n",
    "\n",
    "# final dense which then feeds to the output layer which does predictions\n",
    "dense3  = tf.keras.layers.Dense(units=256, activation='elu', kernel_initializer='he_normal')(dropout1)\n",
    "\n",
    "# the output layer making predictions\n",
    "op = tf.keras.layers.Dense(10, activation='softmax')(dense3)\n",
    "\n",
    "# create the functional api model\n",
    "model = tf.keras.models.Model(name='Deep_N_Wide_Model', inputs=[inp], outputs=[op])\n",
    "\n",
    "# compile the model\n",
    "model.compile(loss='sparse_categorical_crossentropy', optimizer=tf.keras.optimizers.Adam(0.001),\n",
    "             metrics=tf.keras.metrics.SparseCategoricalAccuracy(name='SCAcc'))\n",
    "\n",
    "# let's print out the summary of model\n",
    "model.summary()"
   ]
  },
  {
   "cell_type": "markdown",
   "metadata": {},
   "source": [
    "Perhaps an visual flowchart might help us better see the model:"
   ]
  },
  {
   "cell_type": "code",
   "execution_count": null,
   "metadata": {},
   "outputs": [],
   "source": [
    "tf.keras.utils.plot_model(model, show_shapes=True)"
   ]
  },
  {
   "cell_type": "markdown",
   "metadata": {},
   "source": [
    "#### Let's train our model:"
   ]
  },
  {
   "cell_type": "code",
   "execution_count": 9,
   "metadata": {
    "scrolled": true
   },
   "outputs": [
    {
     "name": "stdout",
     "output_type": "stream",
     "text": [
      "Epoch 1/20\n",
      "1875/1875 [==============================] - 19s 10ms/step - loss: 0.2538 - SCAcc: 0.9224 - val_loss: 0.1500 - val_SCAcc: 0.9520 - lr: 0.0010\n",
      "Epoch 2/20\n",
      "1875/1875 [==============================] - 18s 9ms/step - loss: 0.1277 - SCAcc: 0.9599 - val_loss: 0.1176 - val_SCAcc: 0.9624 - lr: 0.0010\n",
      "Epoch 3/20\n",
      "1875/1875 [==============================] - 18s 10ms/step - loss: 0.0984 - SCAcc: 0.9688 - val_loss: 0.1117 - val_SCAcc: 0.9683 - lr: 0.0010\n",
      "Epoch 4/20\n",
      "1875/1875 [==============================] - 21s 11ms/step - loss: 0.0814 - SCAcc: 0.9753 - val_loss: 0.0921 - val_SCAcc: 0.9708 - lr: 0.0010\n",
      "Epoch 5/20\n",
      "1875/1875 [==============================] - 25s 13ms/step - loss: 0.0367 - SCAcc: 0.9877 - val_loss: 0.0605 - val_SCAcc: 0.9826 - lr: 1.0000e-04\n",
      "Epoch 6/20\n",
      "1875/1875 [==============================] - 17s 9ms/step - loss: 0.0275 - SCAcc: 0.9915 - val_loss: 0.0569 - val_SCAcc: 0.9829 - lr: 1.0000e-04\n",
      "Epoch 7/20\n",
      "1875/1875 [==============================] - 17s 9ms/step - loss: 0.0247 - SCAcc: 0.9919 - val_loss: 0.0564 - val_SCAcc: 0.9836 - lr: 1.0000e-04\n",
      "Epoch 8/20\n",
      "1875/1875 [==============================] - 16s 8ms/step - loss: 0.0194 - SCAcc: 0.9941 - val_loss: 0.0560 - val_SCAcc: 0.9839 - lr: 1.0000e-05\n",
      "Epoch 9/20\n",
      "1875/1875 [==============================] - 17s 9ms/step - loss: 0.0185 - SCAcc: 0.9943 - val_loss: 0.0562 - val_SCAcc: 0.9838 - lr: 1.0000e-05\n",
      "Epoch 10/20\n",
      "1875/1875 [==============================] - 24s 13ms/step - loss: 0.0183 - SCAcc: 0.9945 - val_loss: 0.0559 - val_SCAcc: 0.9837 - lr: 1.0000e-05\n",
      "Epoch 11/20\n",
      "1875/1875 [==============================] - 21s 11ms/step - loss: 0.0173 - SCAcc: 0.9948 - val_loss: 0.0559 - val_SCAcc: 0.9837 - lr: 1.0000e-06\n",
      "Epoch 12/20\n",
      "1875/1875 [==============================] - 26s 14ms/step - loss: 0.0179 - SCAcc: 0.9945 - val_loss: 0.0558 - val_SCAcc: 0.9836 - lr: 1.0000e-06\n",
      "Epoch 13/20\n",
      "1875/1875 [==============================] - 21s 11ms/step - loss: 0.0178 - SCAcc: 0.9946 - val_loss: 0.0558 - val_SCAcc: 0.9838 - lr: 1.0000e-06\n",
      "Epoch 14/20\n",
      "1875/1875 [==============================] - 18s 10ms/step - loss: 0.0173 - SCAcc: 0.9947 - val_loss: 0.0558 - val_SCAcc: 0.9837 - lr: 1.0000e-07\n",
      "Epoch 15/20\n",
      "1875/1875 [==============================] - 18s 10ms/step - loss: 0.0181 - SCAcc: 0.9945 - val_loss: 0.0558 - val_SCAcc: 0.9838 - lr: 1.0000e-07\n",
      "Epoch 16/20\n",
      "1875/1875 [==============================] - 15s 8ms/step - loss: 0.0175 - SCAcc: 0.9944 - val_loss: 0.0558 - val_SCAcc: 0.9838 - lr: 1.0000e-07\n",
      "Epoch 17/20\n",
      "1875/1875 [==============================] - 20s 11ms/step - loss: 0.0173 - SCAcc: 0.9949 - val_loss: 0.0558 - val_SCAcc: 0.9838 - lr: 1.0000e-08\n",
      "Epoch 18/20\n",
      "1875/1875 [==============================] - 20s 11ms/step - loss: 0.0171 - SCAcc: 0.9946 - val_loss: 0.0558 - val_SCAcc: 0.9838 - lr: 1.0000e-08\n",
      "Epoch 19/20\n",
      "1875/1875 [==============================] - 16s 9ms/step - loss: 0.0174 - SCAcc: 0.9947 - val_loss: 0.0558 - val_SCAcc: 0.9838 - lr: 1.0000e-08\n",
      "Epoch 20/20\n",
      "1875/1875 [==============================] - 17s 9ms/step - loss: 0.0179 - SCAcc: 0.9942 - val_loss: 0.0558 - val_SCAcc: 0.9838 - lr: 1.0000e-09\n"
     ]
    }
   ],
   "source": [
    "hist = model.fit(X_train, y_train, epochs=20, validation_data=(X_test, y_test))"
   ]
  },
  {
   "cell_type": "code",
   "execution_count": 42,
   "metadata": {},
   "outputs": [
    {
     "data": {
      "image/png": "[encoded data removed]",
      "text/plain": [
       "<Figure size 720x720 with 1 Axes>"
      ]
     },
     "metadata": {
      "needs_background": "light"
     },
     "output_type": "display_data"
    }
   ],
   "source": [
    "# visualise the models training performance\n",
    "pd.DataFrame(hist.history).plot(figsize=(10, 10), ylim=[0, 1], xlim=[0, 20], title='Epoch vs Accuracy');"
   ]
  },
  {
   "cell_type": "markdown",
   "metadata": {},
   "source": [
    "### Now let's create the model we created above from scratch using subclassing API:\n",
    "\n",
    "#### Loss functions:"
   ]
  },
  {
   "cell_type": "code",
   "execution_count": 474,
   "metadata": {},
   "outputs": [],
   "source": [
    "class my_cross_entropy(tf.keras.losses.Loss):\n",
    "    '''Cross entropy loss, loss layers inherit from keras.losses.loss class.\n",
    "    Requires one hot encoded targets'''\n",
    "    \n",
    "    def __init__(self, epsilon=1e-12, **kwargs):\n",
    "        super().__init__(**kwargs)\n",
    "        self.epsilon = epsilon\n",
    "    \n",
    "    def call(self, y_true, y_pred):\n",
    "        pred = tf.clip_by_value(y_pred, self.epsilon, 1.0 - self.epsilon)\n",
    "        N = pred.shape[0]\n",
    "        ce = -tf.reduce_sum(tf.math.log(pred) * y_true) / N\n",
    "        \n",
    "        return ce\n",
    "        \n",
    "    def get_config(self):\n",
    "        # this is a must if we hope to save our model someday\n",
    "        return {**super().get_config(), \"epsilon\": self.epsilon}"
   ]
  },
  {
   "cell_type": "code",
   "execution_count": 475,
   "metadata": {},
   "outputs": [],
   "source": [
    "class my_s_cross_entropy(tf.keras.losses.Loss):\n",
    "    '''Same as above but sparse_crossentropy loss.\n",
    "    Takes in sparse targets.'''\n",
    "    \n",
    "    def __init__(self, epsilon=1e-12, **kwargs):\n",
    "        super().__init__(**kwargs)\n",
    "        self.epsilon = epsilon\n",
    "    \n",
    "    def call(self, y_true, y_pred):\n",
    "        \n",
    "        # one hot encode the targets and squeeze any dimensions of value 1\n",
    "        y_true = tf.squeeze(tf.one_hot(y_true, depth=y_pred.shape[-1]))\n",
    "        \n",
    "        # exactly copied from above loss snippet\n",
    "        pred = tf.clip_by_value(y_pred, self.epsilon, 1.0 - self.epsilon)\n",
    "        N = pred.shape[0]\n",
    "        \n",
    "        # we add the epsilon value since the model loss \n",
    "        # hits NAN when trained for longer periods\n",
    "        ce = -tf.reduce_sum(tf.math.log(pred + 1e-9) * y_true) / N\n",
    "        \n",
    "        return ce\n",
    "        \n",
    "    def get_config(self):\n",
    "        return {**super().get_config(), \"epsilon\": self.epsilon}"
   ]
  },
  {
   "cell_type": "code",
   "execution_count": 476,
   "metadata": {},
   "outputs": [],
   "source": [
    "# assume to be the model's predictions\n",
    "predictions = np.array([[0.05 , 0.95, 0],\n",
    "                        [0.1, 0.8, 0.1]], dtype=np.float32)\n",
    "\n",
    "# sparse targets (actual)\n",
    "s_targets = np.array([[1], [2]], dtype=np.float32)\n",
    "\n",
    "# one hot encoded targets (actual)\n",
    "targets = np.array([[0., 1., 0.], [0., 0., 1.]], dtype=np.float32)"
   ]
  },
  {
   "cell_type": "markdown",
   "metadata": {},
   "source": [
    "##### Compare the outputs of keras implementation with ours:"
   ]
  },
  {
   "cell_type": "code",
   "execution_count": 477,
   "metadata": {},
   "outputs": [
    {
     "name": "stdout",
     "output_type": "stream",
     "text": [
      "Keras Output: 1.1769392\n",
      "Our Output: 1.1769392\n"
     ]
    }
   ],
   "source": [
    "cce = tf.keras.losses.CategoricalCrossentropy()\n",
    "print (\"Keras Output:\", cce(targets, predictions).numpy())\n",
    "print (\"Our Output:\", my_cross_entropy()(targets, predictions).numpy())"
   ]
  },
  {
   "cell_type": "code",
   "execution_count": 478,
   "metadata": {},
   "outputs": [
    {
     "name": "stdout",
     "output_type": "stream",
     "text": [
      "Keras Output: 1.1769392\n",
      "Our Output: 1.1769392\n"
     ]
    }
   ],
   "source": [
    "sce = tf.keras.losses.SparseCategoricalCrossentropy()\n",
    "print (\"Keras Output:\", sce(s_targets, predictions).numpy())\n",
    "print (\"Our Output:\", my_s_cross_entropy()(s_targets, predictions).numpy())"
   ]
  },
  {
   "cell_type": "markdown",
   "metadata": {},
   "source": [
    "Working good, let's move on to create the SparseCategoricalAccuracy Metric\n",
    "\n",
    "### Metrics:"
   ]
  },
  {
   "cell_type": "code",
   "execution_count": 418,
   "metadata": {},
   "outputs": [],
   "source": [
    "class my_scacc_metric(tf.keras.metrics.Metric):\n",
    "    '''Creating a stateful metric, which keeps updating itself with streaming scores.\n",
    "    No args to init, hence get_config is not needed.'''\n",
    "    \n",
    "    def __init__(self, **kwargs):\n",
    "        super().__init__(**kwargs)\n",
    "        \n",
    "        # intialize total & count to calculate the mean when required\n",
    "        self.total = self.add_weight(\"total\", initializer='zeros')\n",
    "        self.count = self.add_weight(\"count\", initializer='zeros')\n",
    "        \n",
    "        # creating the metric from function we have already defined, redundant\n",
    "        self.calc_acc = my_scacc_metric.my_SCAcc\n",
    "        \n",
    "    def update_state(self, y_true, y_pred, sample_weights=None):\n",
    "        '''Gets called inside the loop for every step of the epoch'''\n",
    "        \n",
    "        metrics = self.calc_acc(y_true, y_pred)\n",
    "        \n",
    "        # update the total scores along with count for later purpose\n",
    "        self.total.assign_add(tf.reduce_sum(metrics))\n",
    "        self.count.assign_add(tf.cast(tf.size(y_true), dtype=tf.float32))\n",
    "    \n",
    "    def my_SCAcc(y_true, y_pred):\n",
    "        scores = tf.cast(tf.equal(\n",
    "            tf.cast(tf.reduce_max(y_true, axis=-1), dtype=tf.float32), \n",
    "            tf.cast(tf.argmax(y_pred, axis=-1), dtype=tf.float32),\n",
    "        ), dtype=tf.float32)\n",
    "        \n",
    "        return scores\n",
    "    \n",
    "    def result(self):\n",
    "        '''Gets called at the end of epoch. Calculate the mean'''\n",
    "        return self.total / self.count"
   ]
  },
  {
   "cell_type": "code",
   "execution_count": 479,
   "metadata": {},
   "outputs": [
    {
     "data": {
      "text/plain": [
       "<tf.Tensor: shape=(), dtype=float32, numpy=0.5>"
      ]
     },
     "execution_count": 479,
     "metadata": {},
     "output_type": "execute_result"
    }
   ],
   "source": [
    "targets = [[2], [1]]\n",
    "predictions = [[0.1, 0.9, 0.8], [0.05, 0.95, 0]]\n",
    "temp = my_scacc_metric()\n",
    "temp.update_state(targets, predictions)\n",
    "temp.result()"
   ]
  },
  {
   "cell_type": "markdown",
   "metadata": {},
   "source": [
    "### Activations:\n",
    "Metrics is working fine, let's move on to creating our own activations for `Softmax` & `elu`:"
   ]
  },
  {
   "cell_type": "code",
   "execution_count": 420,
   "metadata": {},
   "outputs": [],
   "source": [
    "class my_elu(tf.keras.layers.Layer):\n",
    "    def __init__(self, alpha=1., **kwargs):\n",
    "        super().__init__(**kwargs)\n",
    "        self.alpha = alpha\n",
    "        \n",
    "    def call(self, z):\n",
    "        \n",
    "        z = tf.cast(z, dtype=tf.float32)\n",
    "        return tf.where(z > 0, z, self.alpha * (tf.exp(z) - 1))\n",
    "            \n",
    "    def get_config(self):\n",
    "        return {**super().get_config(), \"alpha\": self.alpha}\n",
    "    "
   ]
  },
  {
   "cell_type": "code",
   "execution_count": 421,
   "metadata": {},
   "outputs": [
    {
     "data": {
      "text/plain": [
       "<tf.Tensor: shape=(4,), dtype=float32, numpy=array([-0.63212055, -0.9998766 , 10.        , 20.        ], dtype=float32)>"
      ]
     },
     "execution_count": 421,
     "metadata": {},
     "output_type": "execute_result"
    }
   ],
   "source": [
    "my_elu()(tf.constant([-1, -9, 10, 20]))"
   ]
  },
  {
   "cell_type": "code",
   "execution_count": 422,
   "metadata": {},
   "outputs": [
    {
     "data": {
      "text/plain": [
       "2"
      ]
     },
     "execution_count": 422,
     "metadata": {},
     "output_type": "execute_result"
    }
   ],
   "source": [
    "len(tf.shape(tf.constant([[1, 2, 3], [2, 3, 4]])))"
   ]
  },
  {
   "cell_type": "code",
   "execution_count": 423,
   "metadata": {},
   "outputs": [],
   "source": [
    "def my_softmax(z, axis=-1):    \n",
    "    ndim = len(tf.shape(z))\n",
    "    if ndim == 2:\n",
    "        return tf.nn.softmax(z)\n",
    "    elif ndim > 2:\n",
    "        e = tf.exp(z - tf.reduce_max(z, axis=axis, keepdims=True))\n",
    "        s = tf.reduce_sum(e, axis=axis, keepdims=True)\n",
    "        return e / s\n",
    "    else:\n",
    "        raise ValueError('Cannot apply softmax to a tensor that is 1D. '\n",
    "                         'Received input: %s' % z)"
   ]
  },
  {
   "cell_type": "code",
   "execution_count": 424,
   "metadata": {},
   "outputs": [
    {
     "data": {
      "text/plain": [
       "<tf.Tensor: shape=(1, 3), dtype=float32, numpy=array([[0.09003057, 0.24472848, 0.66524094]], dtype=float32)>"
      ]
     },
     "execution_count": 424,
     "metadata": {},
     "output_type": "execute_result"
    }
   ],
   "source": [
    "my_softmax(tf.constant([[1., 2., 3.]]))"
   ]
  },
  {
   "cell_type": "markdown",
   "metadata": {},
   "source": [
    "### Initializers:\n",
    "Let's now move on to create the golorot normal and he_normal intializers for the model:"
   ]
  },
  {
   "cell_type": "code",
   "execution_count": 425,
   "metadata": {},
   "outputs": [],
   "source": [
    "def my_glorot_init(shape, dtype=tf.float32):\n",
    "    stddev = tf.sqrt(2. / (shape[0] + shape[1]))\n",
    "    return tf.random.normal(shape, stddev=stddev, dtype=dtype)"
   ]
  },
  {
   "cell_type": "code",
   "execution_count": 426,
   "metadata": {},
   "outputs": [
    {
     "data": {
      "text/plain": [
       "<tf.Tensor: shape=(10, 1), dtype=float32, numpy=\n",
       "array([[ 0.6974226 ],\n",
       "       [-0.35105956],\n",
       "       [-0.2997724 ],\n",
       "       [ 0.1749831 ],\n",
       "       [ 0.46001196],\n",
       "       [ 0.44626623],\n",
       "       [-0.27885336],\n",
       "       [-0.31279862],\n",
       "       [-0.44361517],\n",
       "       [ 0.8710123 ]], dtype=float32)>"
      ]
     },
     "execution_count": 426,
     "metadata": {},
     "output_type": "execute_result"
    }
   ],
   "source": [
    "my_glorot_init([10,1])"
   ]
  },
  {
   "cell_type": "code",
   "execution_count": 427,
   "metadata": {},
   "outputs": [],
   "source": [
    "def my_he_init(shape, dtype=tf.float32):\n",
    "    stddev = tf.sqrt(2. / shape[0])\n",
    "    return tf.random.normal(shape, stddev=stddev, dtype=dtype)"
   ]
  },
  {
   "cell_type": "code",
   "execution_count": 428,
   "metadata": {},
   "outputs": [
    {
     "data": {
      "text/plain": [
       "<tf.Tensor: shape=(10, 1), dtype=float32, numpy=\n",
       "array([[-0.05962639],\n",
       "       [ 0.24382487],\n",
       "       [ 0.47306964],\n",
       "       [ 0.37291068],\n",
       "       [-0.6868492 ],\n",
       "       [ 0.17765294],\n",
       "       [-0.07778834],\n",
       "       [ 0.29282498],\n",
       "       [-1.0894686 ],\n",
       "       [-0.31218007]], dtype=float32)>"
      ]
     },
     "execution_count": 428,
     "metadata": {},
     "output_type": "execute_result"
    }
   ],
   "source": [
    "my_he_init([10, 1])"
   ]
  },
  {
   "cell_type": "markdown",
   "metadata": {},
   "source": [
    "### Custom layers:\n"
   ]
  },
  {
   "cell_type": "code",
   "execution_count": 429,
   "metadata": {},
   "outputs": [],
   "source": [
    "class my_dense(tf.keras.layers.Layer):\n",
    "    def __init__(self, units, activation=None, initializer=None, **kwargs):\n",
    "        self.units = units\n",
    "        super().__init__(**kwargs)\n",
    "        \n",
    "        if not activation:\n",
    "            self.activation = my_elu()\n",
    "        else:\n",
    "            self.activation = activation\n",
    "        \n",
    "        if not initializer:\n",
    "            self.my_init = my_he_init\n",
    "        else:\n",
    "            self.my_init = initializer        \n",
    "        \n",
    "    def build(self, batch_input_shape):\n",
    "        self.kernel = self.add_weight(name='kernel', shape=[batch_input_shape[-1], self.units], initializer=self.my_init)\n",
    "        self.bias = self.add_weight(name='bias', shape=[self.units], initializer='zeros')\n",
    "        super().build(batch_input_shape)\n",
    "        \n",
    "    def call(self, x):\n",
    "        return self.activation(x @ self.kernel + self.bias)\n",
    "    \n",
    "    def compute_output_shape(self, batch_input_shape):\n",
    "        return tf.TensorShape(batch_input_shape.as_list()[:-1], [self.units])\n",
    "    \n",
    "    def get_config(self):\n",
    "        parent_configs = super().get_config()\n",
    "        return {**parent_configs, \n",
    "                \"units\": self.units,\n",
    "                \"activation\": tf.keras.activations.serialize(self.activation),\n",
    "                \"initializer\": tf.keras.initializers.serialize(self.my_init),\n",
    "               }"
   ]
  },
  {
   "cell_type": "code",
   "execution_count": 430,
   "metadata": {},
   "outputs": [
    {
     "data": {
      "text/plain": [
       "<tf.Tensor: shape=(5, 10), dtype=float32, numpy=\n",
       "array([[ 1.1428204 , -0.0751465 , -0.6035164 , -0.9171566 ,  1.1909186 ,\n",
       "        -0.7876803 , -0.64899766,  0.32825693,  0.8364202 ,  0.5899803 ],\n",
       "       [-0.65485215,  0.07271709,  0.86113876,  2.318538  , -0.6699641 ,\n",
       "         1.4424869 ,  0.97455406, -0.26328528, -0.54093933, -0.42257512],\n",
       "       [-0.83045304,  0.12130825,  1.4365708 ,  3.8678362 , -0.84265494,\n",
       "         2.4063885 ,  1.6257726 , -0.39934397, -0.72714984, -0.59994334],\n",
       "       [-0.8056033 ,  0.11195901,  1.3258541 ,  3.5697417 , -0.8185522 ,\n",
       "         2.220928  ,  1.5004741 , -0.37527746, -0.6984234 , -0.57067513],\n",
       "       [ 2.0640433 , -0.1315906 , -0.81191415, -0.98887575,  2.1509132 ,\n",
       "        -0.9391193 , -0.8490664 ,  0.59286356,  1.5106552 ,  1.065561  ]],\n",
       "      dtype=float32)>"
      ]
     },
     "execution_count": 430,
     "metadata": {},
     "output_type": "execute_result"
    }
   ],
   "source": [
    "temp = my_dense(units=10)\n",
    "temp(tf.random.normal(shape=(5,1)))"
   ]
  },
  {
   "cell_type": "code",
   "execution_count": 431,
   "metadata": {},
   "outputs": [
    {
     "data": {
      "text/plain": [
       "<tf.Tensor: shape=(5, 10), dtype=float32, numpy=\n",
       "array([[0.10680518, 0.04703631, 0.10234663, 0.09287959, 0.04294725,\n",
       "        0.11431344, 0.15661128, 0.10840799, 0.15948589, 0.06916639],\n",
       "       [0.07417963, 0.1906956 , 0.07791227, 0.08712405, 0.21174625,\n",
       "        0.06859852, 0.04774178, 0.07291834, 0.0467524 , 0.12233116],\n",
       "       [0.06541538, 0.2167421 , 0.06961959, 0.08022454, 0.24753709,\n",
       "        0.05923524, 0.03739871, 0.06400742, 0.03641813, 0.12340179],\n",
       "       [0.08537249, 0.15511   , 0.08806465, 0.09451346, 0.165729  ,\n",
       "        0.08125221, 0.06460769, 0.08445159, 0.06375772, 0.11714119],\n",
       "       [0.10568273, 0.06750244, 0.1032479 , 0.09791277, 0.06422868,\n",
       "        0.10968118, 0.13027751, 0.10654672, 0.13157924, 0.08334084]],\n",
       "      dtype=float32)>"
      ]
     },
     "execution_count": 431,
     "metadata": {},
     "output_type": "execute_result"
    }
   ],
   "source": [
    "temp = my_dense(units=10, activation=my_softmax, initializer=my_glorot_init)\n",
    "temp(tf.random.normal(shape=(5,1)))"
   ]
  },
  {
   "cell_type": "code",
   "execution_count": 432,
   "metadata": {},
   "outputs": [],
   "source": [
    "class my_dropout(tf.keras.layers.Layer):\n",
    "    def __init__(self, drate, **kwargs):\n",
    "        self.drate = drate\n",
    "        super().__init__(**kwargs)\n",
    "        \n",
    "    def call(self, inputs, training=None):\n",
    "        if training:\n",
    "            mask = tf.random.uniform(shape=inputs.shape) > self.drate\n",
    "            return tf.where(mask, inputs, 0) / (1 - self.drate)\n",
    "        \n",
    "        else:\n",
    "            return inputs\n",
    "        \n",
    "    def get_config(self):\n",
    "        return {**super().get_config(), \"drate\": self.drate}\n",
    "        "
   ]
  },
  {
   "cell_type": "code",
   "execution_count": 433,
   "metadata": {},
   "outputs": [
    {
     "name": "stdout",
     "output_type": "stream",
     "text": [
      "(10,)\n",
      "tf.Tensor(\n",
      "[-1.5063496   0.          0.39664894  0.         -0.54375064 -0.5133027\n",
      " -1.3359358   0.          0.          0.        ], shape=(10,), dtype=float32)\n"
     ]
    }
   ],
   "source": [
    "with tf.keras.backend.learning_phase_scope(1):\n",
    "    temp = my_dropout(0.2)(tf.random.normal(shape=(10,)))\n",
    "    print (temp.shape)\n",
    "    print (temp)"
   ]
  },
  {
   "cell_type": "code",
   "execution_count": 434,
   "metadata": {},
   "outputs": [],
   "source": [
    "class my_flatten(tf.keras.layers.Layer):\n",
    "    def call(self, x):\n",
    "        return tf.reshape(x, shape=[x.shape[0], -1])\n",
    "    \n",
    "    def compute_output_shape(self, batch_input_shape):\n",
    "        return tf.TensorShape([batch_input_shape[0]], [tf.reduce_prod(batch_input_shape[1:])])"
   ]
  },
  {
   "cell_type": "code",
   "execution_count": 435,
   "metadata": {},
   "outputs": [
    {
     "data": {
      "text/plain": [
       "<tf.Tensor: shape=(10, 784), dtype=int32, numpy=\n",
       "array([[0, 0, 0, ..., 0, 0, 0],\n",
       "       [0, 0, 0, ..., 0, 0, 0],\n",
       "       [0, 0, 0, ..., 0, 0, 0],\n",
       "       ...,\n",
       "       [0, 0, 0, ..., 0, 0, 0],\n",
       "       [0, 0, 0, ..., 0, 0, 0],\n",
       "       [0, 0, 0, ..., 0, 0, 0]], dtype=int32)>"
      ]
     },
     "execution_count": 435,
     "metadata": {},
     "output_type": "execute_result"
    }
   ],
   "source": [
    "my_flatten()(X_train[:10].astype(np.int32))"
   ]
  },
  {
   "cell_type": "code",
   "execution_count": 436,
   "metadata": {},
   "outputs": [],
   "source": [
    "class my_conc(tf.keras.layers.Layer):\n",
    "    def call(self, inputs):\n",
    "        a, b = inputs\n",
    "        return tf.concat([a, b], axis=1)\n",
    "    \n",
    "    def compute_output_shape(self, batch_input_shapes):\n",
    "        return tf.TensorShape(batch_input_shapes[0][:-1], [batch_input_shapes[0][-1] + batch_input_shapes[1][-1]])"
   ]
  },
  {
   "cell_type": "code",
   "execution_count": 437,
   "metadata": {},
   "outputs": [
    {
     "data": {
      "text/plain": [
       "<tf.Tensor: shape=(5, 5), dtype=float32, numpy=\n",
       "array([[0.34733737, 0.50976706, 0.92616856, 0.42780864, 0.82958376],\n",
       "       [0.48532736, 0.12041569, 0.8498498 , 0.2160269 , 0.3847556 ],\n",
       "       [0.9411465 , 0.5607525 , 0.5391358 , 0.7781346 , 0.00567448],\n",
       "       [0.23165798, 0.10524464, 0.62537086, 0.6577296 , 0.26813507],\n",
       "       [0.28594744, 0.6244042 , 0.04825294, 0.8871002 , 0.33091247]],\n",
       "      dtype=float32)>"
      ]
     },
     "execution_count": 437,
     "metadata": {},
     "output_type": "execute_result"
    }
   ],
   "source": [
    "my_conc()([tf.random.uniform(shape=(5, 2)), tf.random.uniform(shape=(5, 3))])"
   ]
  },
  {
   "cell_type": "markdown",
   "metadata": {},
   "source": [
    "We are done creating the layers, let's now create the model using subclass api.\n",
    "### Model creation:"
   ]
  },
  {
   "cell_type": "code",
   "execution_count": 438,
   "metadata": {},
   "outputs": [],
   "source": [
    "class my_mnist_model(tf.keras.models.Model):\n",
    "    def __init__(self, **kwargs):\n",
    "        super().__init__(**kwargs)\n",
    "        \n",
    "        self.flatten = my_flatten()\n",
    "        self.dense1 = my_dense(units=128)\n",
    "        self.dense2 = my_dense(units=128)\n",
    "        self.conc = my_conc()\n",
    "        self.dropout = my_dropout(drate=0.2)\n",
    "        self.dense3 = my_dense(units=256)\n",
    "        self.op = my_dense(units=10, initializer=my_glorot_init, activation=my_softmax)\n",
    "        \n",
    "    def call(self, inputs):\n",
    "        \n",
    "        flatten = self.flatten(inputs)\n",
    "        dense1 = self.dense1(flatten)\n",
    "        dense2 = self.dense2(dense1)\n",
    "        conc = self.conc([dense1, dense2])\n",
    "        dropout = self.dropout(conc)\n",
    "        dense3 = self.dense3(dropout)\n",
    "        op = self.op(dense3)\n",
    "        \n",
    "        return op              "
   ]
  },
  {
   "cell_type": "code",
   "execution_count": 439,
   "metadata": {},
   "outputs": [],
   "source": [
    "tf.keras.backend.clear_session()"
   ]
  },
  {
   "cell_type": "code",
   "execution_count": 440,
   "metadata": {
    "scrolled": true
   },
   "outputs": [
    {
     "name": "stdout",
     "output_type": "stream",
     "text": [
      "(50, 10)\n"
     ]
    }
   ],
   "source": [
    "with tf.keras.backend.learning_phase_scope(1):\n",
    "    temp = my_mnist_model()\n",
    "    print (temp(X_train[:50].astype(np.float32)).shape)"
   ]
  },
  {
   "cell_type": "markdown",
   "metadata": {},
   "source": [
    "### Model Training (Custom loop)\n",
    "Now let's get the model to train for which let's write a function that prints out the metrics during training:"
   ]
  },
  {
   "cell_type": "code",
   "execution_count": 461,
   "metadata": {},
   "outputs": [],
   "source": [
    "def print_status_bar(iteration, total, loss, metrics=None):\n",
    "    metrics = ' - '.join([\"{}: {:.4f}\".format(m.name, m.result()) for m in [loss] + (metrics or [])])\n",
    "    end = \"\" if iteration < total else \"\\n\"\n",
    "    print (\"\\r{}/{} - \".format(iteration, total) + metrics, end=end)"
   ]
  },
  {
   "cell_type": "code",
   "execution_count": 469,
   "metadata": {},
   "outputs": [],
   "source": [
    "tf.keras.backend.clear_session()\n",
    "my_model = my_mnist_model()\n",
    "optimizer = tf.keras.optimizers.Adam(0.001)\n",
    "metrics = [my_scacc_metric()]\n",
    "loss_fn = my_s_cross_entropy()\n",
    "mean_loss = tf.keras.metrics.Mean(name='Loss_Mean')\n",
    "\n",
    "n_epochs = 20\n",
    "batch_size = 32\n",
    "\n",
    "n_steps_train = len(X_train) // batch_size\n",
    "n_steps_test = len(X_test) // batch_size\n",
    "\n",
    "X_Train = X_train.astype(np.float32)\n",
    "y_Train = y_train.reshape(-1, 1)\n",
    "\n",
    "X_Test = X_test.astype(np.float32)\n",
    "y_Test = y_test.reshape(-1, 1)"
   ]
  },
  {
   "cell_type": "code",
   "execution_count": 470,
   "metadata": {},
   "outputs": [
    {
     "name": "stdout",
     "output_type": "stream",
     "text": [
      "Epoch 1/20:\n",
      "60000/60000 - mean: 0.2591 - my_scacc_metric: 0.9211\n",
      "9984/10000 - mean: 0.1377 - my_scacc_metric: 0.9567\n",
      "\n",
      "\n",
      "Epoch 2/20:\n",
      "60000/60000 - mean: 0.1298 - my_scacc_metric: 0.9593\n",
      "9984/10000 - mean: 0.1108 - my_scacc_metric: 0.9656\n",
      "\n",
      "\n",
      "Epoch 3/20:\n",
      "60000/60000 - mean: 0.0952 - my_scacc_metric: 0.9703\n",
      "9984/10000 - mean: 0.0959 - my_scacc_metric: 0.9704\n",
      "\n",
      "\n",
      "Epoch 4/20:\n",
      "60000/60000 - mean: 0.0810 - my_scacc_metric: 0.9745\n",
      "9984/10000 - mean: 0.0858 - my_scacc_metric: 0.9743\n",
      "\n",
      "\n",
      "Epoch 5/20:\n",
      "60000/60000 - mean: 0.0697 - my_scacc_metric: 0.9780\n",
      "9984/10000 - mean: 0.0973 - my_scacc_metric: 0.9737\n",
      "\n",
      "\n",
      "Epoch 6/20:\n",
      "60000/60000 - mean: 0.0617 - my_scacc_metric: 0.9805\n",
      "9984/10000 - mean: 0.0949 - my_scacc_metric: 0.9752\n",
      "\n",
      "\n",
      "Epoch 7/20:\n",
      "60000/60000 - mean: 0.0551 - my_scacc_metric: 0.9826\n",
      "9984/10000 - mean: 0.0998 - my_scacc_metric: 0.9722\n",
      "\n",
      "\n",
      "Epoch 8/20:\n",
      "60000/60000 - mean: 0.0476 - my_scacc_metric: 0.9852\n",
      "9984/10000 - mean: 0.0926 - my_scacc_metric: 0.9764\n",
      "\n",
      "\n",
      "Epoch 9/20:\n",
      "60000/60000 - mean: 0.0460 - my_scacc_metric: 0.9859\n",
      "9984/10000 - mean: 0.0997 - my_scacc_metric: 0.9778\n",
      "\n",
      "\n",
      "Epoch 10/20:\n",
      "60000/60000 - mean: 0.0431 - my_scacc_metric: 0.9872\n",
      "9984/10000 - mean: 0.0966 - my_scacc_metric: 0.9782\n",
      "\n",
      "\n",
      "Epoch 11/20:\n",
      "60000/60000 - mean: 0.0383 - my_scacc_metric: 0.9886\n",
      "9984/10000 - mean: 0.0966 - my_scacc_metric: 0.9794\n",
      "\n",
      "\n",
      "Epoch 12/20:\n",
      "60000/60000 - mean: 0.0407 - my_scacc_metric: 0.9878\n",
      "9984/10000 - mean: 0.0844 - my_scacc_metric: 0.9813\n",
      "\n",
      "\n",
      "Epoch 13/20:\n",
      "60000/60000 - mean: nan - my_scacc_metric: 0.3002917\n",
      "9984/10000 - mean: nan - my_scacc_metric: 0.0981\n",
      "\n",
      "\n",
      "Epoch 14/20:\n",
      "60000/60000 - mean: nan - my_scacc_metric: 0.0987\n",
      "9984/10000 - mean: nan - my_scacc_metric: 0.0981\n",
      "\n",
      "\n",
      "Epoch 15/20:\n",
      "60000/60000 - mean: nan - my_scacc_metric: 0.0987\n",
      "9984/10000 - mean: nan - my_scacc_metric: 0.0981\n",
      "\n",
      "\n",
      "Epoch 16/20:\n",
      "60000/60000 - mean: nan - my_scacc_metric: 0.0987\n",
      "9984/10000 - mean: nan - my_scacc_metric: 0.0981\n",
      "\n",
      "\n",
      "Epoch 17/20:\n",
      "60000/60000 - mean: nan - my_scacc_metric: 0.0987\n",
      "9984/10000 - mean: nan - my_scacc_metric: 0.0981\n",
      "\n",
      "\n",
      "Epoch 18/20:\n",
      "60000/60000 - mean: nan - my_scacc_metric: 0.0987\n",
      "9984/10000 - mean: nan - my_scacc_metric: 0.0981\n",
      "\n",
      "\n",
      "Epoch 19/20:\n",
      "60000/60000 - mean: nan - my_scacc_metric: 0.0987\n",
      "9984/10000 - mean: nan - my_scacc_metric: 0.0981\n",
      "\n",
      "\n",
      "Epoch 20/20:\n",
      "60000/60000 - mean: nan - my_scacc_metric: 0.0987\n",
      "9984/10000 - mean: nan - my_scacc_metric: 0.0981"
     ]
    }
   ],
   "source": [
    "for epoch in range(1, n_epochs + 1):\n",
    "    if epoch != 1:\n",
    "        print (\"\\n\\n\")\n",
    "    print (\"Epoch {}/{}:\".format(epoch, n_epochs))\n",
    "    ids = tf.random.shuffle(tf.range(start=0, limit=len(X_train)))\n",
    "    \n",
    "    for step in range(1, n_steps_train + 1):\n",
    "        temp_ids = ids[(step-1)*batch_size: step*batch_size]\n",
    "        X_batch, y_batch = X_Train[temp_ids], y_Train[temp_ids]        \n",
    "        with tf.GradientTape() as tape:\n",
    "            y_pred = my_model(X_batch, training=True)\n",
    "            main_loss = loss_fn(y_batch, y_pred)\n",
    "            loss = tf.add_n([main_loss] + my_model.losses)\n",
    "        gradients = tape.gradient(loss, my_model.trainable_variables)\n",
    "        optimizer.apply_gradients(zip(gradients, my_model.trainable_variables))\n",
    "        mean_loss(loss)\n",
    "        for metric in metrics:\n",
    "            metric(y_batch, y_pred)\n",
    "        print_status_bar(step * batch_size, len(y_train), mean_loss, metrics)\n",
    "        \n",
    "    for metric in [mean_loss] + metrics:\n",
    "        metric.reset_states()\n",
    "    \n",
    "    for step in range(1, n_steps_test + 1):\n",
    "        X_batch = X_Test[(step - 1)*batch_size: step * batch_size]\n",
    "        y_batch = y_Test[(step - 1)*batch_size: step * batch_size]\n",
    "        \n",
    "        y_pred = my_model(X_batch, training=False)\n",
    "        val_loss = loss_fn(y_batch, y_pred)\n",
    "        \n",
    "        mean_loss(val_loss)\n",
    "        for metric in metrics:\n",
    "            metric(y_batch, y_pred)\n",
    "            \n",
    "        print_status_bar(step * batch_size, len(y_Test), mean_loss, metrics)\n",
    "    \n",
    "    for metric in [mean_loss] + metrics:\n",
    "        metric.reset_states()"
   ]
  },
  {
   "cell_type": "code",
   "execution_count": null,
   "metadata": {},
   "outputs": [],
   "source": []
  }
 ],
 "metadata": {
  "kernelspec": {
   "display_name": "Python 3",
   "language": "python",
   "name": "python3"
  },
  "language_info": {
   "codemirror_mode": {
    "name": "ipython",
    "version": 3
   },
   "file_extension": ".py",
   "mimetype": "text/x-python",
   "name": "python",
   "nbconvert_exporter": "python",
   "pygments_lexer": "ipython3",
   "version": "3.8.3"
  }
 },
 "nbformat": 4,
 "nbformat_minor": 4
}
